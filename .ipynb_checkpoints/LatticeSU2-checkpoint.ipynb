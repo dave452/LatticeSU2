{
 "cells": [
  {
   "cell_type": "code",
   "execution_count": 1,
   "id": "766dd55f",
   "metadata": {},
   "outputs": [],
   "source": [
    "import numpy as np"
   ]
  },
  {
   "cell_type": "code",
   "execution_count": 7,
   "id": "0b58de13",
   "metadata": {},
   "outputs": [],
   "source": [
    "class su2:\n",
    "    def __init__(self):\n",
    "        self.vec = (np.random.rand(4)*2 - 1 )\n",
    "        self.vec /= np.sqrt(su2.det(self.vec))\n",
    "        \n",
    "    def heat_bath(self,stpl, beta):\n",
    "        k = su2.det(stpl)\n",
    "        x = np.random.uniform(np.exp(-2*beta*k),1)\n",
    "        a = np.array([0.,0.,0.,0.])\n",
    "        a[0] = 1 + np.log(x)/(beta*k)\n",
    "        a[1:] = (np.random.rand(3)*2 - 1)\n",
    "        a[1:] *= np.sqrt((1-a[0]**2)/(a[1]**2 + a[2]**2 +a[3]**2))\n",
    "        self.vec = su2.multi(a, su2.inv(stpl)) / k\n",
    "        \n",
    "    def over_relaxation(self,stpl,beta):\n",
    "        print('over relaxation')\n",
    "    def inv(u):\n",
    "        return  np.array([u[0],-u[1],-u[2],-u[3]])\n",
    "    \n",
    "    def det(u):\n",
    "        return (u[0]**2) + (u[1]**2) + (u[2]**2) + (u[3]**2)\n",
    "    \n",
    "    def multi(u,v):\n",
    "        return np.array([u[0]*v[0] - u[1]*v[1] - u[2]*v[2] - u[3]*v[3],\n",
    "                u[0]*v[1] + u[1]*v[0] + u[3]*v[2] - u[2]*v[3],\n",
    "                u[2]*v[0] + u[0]*v[2] + u[1]*v[3] - u[3]*v[1],\n",
    "                u[3]*v[0] + u[2]*v[1] + u[0]*v[3] - u[1]*v[2]])\n",
    "    def plaquette(self,u,v,w):\n",
    "        return su2.multi(su2.multi(su2.multi(self.vec, u), v), w)[0]\n",
    "    def staple(u,v,w):\n",
    "        return su2.multi(su2.multi(u, v), w)"
   ]
  },
  {
   "cell_type": "code",
   "execution_count": 8,
   "id": "190bd73b",
   "metadata": {},
   "outputs": [],
   "source": [
    "class Lattice:\n",
    "    def __init__(self,Nt,Ns,Nhb,Nor,beta):\n",
    "        self.beta = beta\n",
    "        self.Nt = Nt; self.Ns = Ns;\n",
    "        self.Nor = Nor; self.Nhb = Nhb;\n",
    "        self.nodes = np.array([])\n",
    "        for t in range(Nt):\n",
    "            for x in range(Ns):\n",
    "                for y in range(Ns):\n",
    "                    for z in range(Ns):\n",
    "                        for mu in range(4):\n",
    "                            self.nodes = np.append(self.nodes,su2())\n",
    "        self.nodes = self.nodes.reshape(Nt,Ns,Ns,Ns,4)\n",
    "        \n",
    "    def move(self,t,x,y,z,m, mu): \n",
    "        t = (t+m[0])*((t+m[0])<Nt and (t+m[0])>=0) + (Nt+m[0])*((t+m[0])<0) + (m[0])*((t+m[0])>=Nt);\n",
    "        x = (x+m[1])*((x+m[1])<Ns and (x+m[1])>=0) + (Ns+m[1])*((x+m[1])<0) + (m[1])*((x+m[1])>=Ns);\n",
    "        y = (y+m[2])*((y+m[2])<Ns and (y+m[2])>=0) + (Ns+m[2])*((y+m[2])<0) + (m[2])*((y+m[2])>=Ns);\n",
    "        z = (z+m[3])*((z+m[3])<Ns and (z+m[3])>=0) + (Ns+m[3])*((z+m[3])<0) + (m[3])*((z+m[3])>=Ns);\n",
    "        if mu > 0:\n",
    "            return self.nodes[t,x,y,z,abs(mu)].vec\n",
    "        else:\n",
    "            return su2.inv(self.nodes[t,x,y,z,abs(mu)].vec)\n",
    "    \n",
    "    def avr_plaquette(self):\n",
    "        print('calculate plaquette')\n",
    "        plq = 0.\n",
    "        a = np.array([0,1,2,3])\n",
    "        for t in range(self.Nt):\n",
    "            for x in range(self.Ns):\n",
    "                for y in range(self.Ns):\n",
    "                    for z in range(self.Ns):\n",
    "                        for mu in range(4):\n",
    "                            for nu in a[a!=mu]:\n",
    "                                plq += self.nodes[t,x,y,z,mu].plaquette(self.move(t,x,y,z,(a==mu),nu),\n",
    "                                                    self.move(t,x,y,z,(a==nu),-mu),self.move(t,x,y,z,(a==4),-nu))\n",
    "        return plq / (self.Nt * (self.Ns ** 3) * 6)\n",
    "        \n",
    "    def staple(self,T,X,Y,Z,MU):\n",
    "        stpl = np.array([0.,0.,0.,0.])\n",
    "        a = np.array([0,1,2,3])\n",
    "        for nu in a[a!=MU]:\n",
    "            stpl += su2.staple(self.move(T,X,Y,Z,1*(a==MU),nu),\n",
    "                                self.move(T,X,Y,Z,1*(a==nu),-MU),self.move(T,X,Y,Z,1*(a==4),-nu))\n",
    "            stpl += su2.staple(self.move(T,X,Y,Z,-1*(a==nu),-nu),\n",
    "                                self.move(T,X,Y,Z,-1*(a==nu),MU),self.move(T,X,Y,Z,1*(a==MU)-1*(a==nu),nu))\n",
    "        return stpl\n",
    "            \n",
    "    def Update(self):\n",
    "        for t in range(self.Nt):\n",
    "            for x in range(self.Ns):\n",
    "                for y in range(self.Ns):\n",
    "                    for z in range(self.Ns):\n",
    "                        for mu in range(4):\n",
    "                            stpl = self.staple(t,x,y,z,mu)\n",
    "                            for nhb in range(self.Nhb):\n",
    "                                self.nodes[t,x,y,z,mu].heat_bath(stpl, self.beta)\n",
    "                            for nor in range(self.Nor):\n",
    "                                self.nodes[t,x,y,z,mu].over_relaxation(stpl, self.beta) \n",
    "                                "
   ]
  },
  {
   "cell_type": "code",
   "execution_count": 9,
   "id": "3348cc72",
   "metadata": {},
   "outputs": [],
   "source": [
    "Nt =4; Ns = 16; beta = 2.; Nor = 0; Nhb =1;\n",
    "poop = Lattice(Nt,Ns,Nhb,Nor,beta)"
   ]
  },
  {
   "cell_type": "code",
   "execution_count": 10,
   "id": "dd76600d",
   "metadata": {},
   "outputs": [
    {
     "name": "stdout",
     "output_type": "stream",
     "text": [
      "calculate plaquette\n"
     ]
    },
    {
     "data": {
      "text/plain": [
       "0.01594513379281941"
      ]
     },
     "execution_count": 10,
     "metadata": {},
     "output_type": "execute_result"
    }
   ],
   "source": [
    "poop.avr_plaquette()"
   ]
  },
  {
   "cell_type": "code",
   "execution_count": 11,
   "id": "349091b7",
   "metadata": {},
   "outputs": [
    {
     "name": "stdout",
     "output_type": "stream",
     "text": [
      "calculate plaquette\n",
      "-0.02362679979271476\n",
      "calculate plaquette\n",
      "-0.09151753769906051\n",
      "calculate plaquette\n",
      "-0.06111274607857741\n",
      "calculate plaquette\n",
      "-0.045537229093704105\n",
      "calculate plaquette\n",
      "-0.024910488587031213\n",
      "calculate plaquette\n",
      "-0.05627543864800536\n",
      "calculate plaquette\n",
      "-0.06734575313602068\n",
      "calculate plaquette\n",
      "-0.07101214434471238\n",
      "calculate plaquette\n",
      "-0.061349612171900346\n",
      "calculate plaquette\n",
      "-0.074099300509904\n",
      "calculate plaquette\n",
      "-0.06062214146292232\n",
      "calculate plaquette\n",
      "-0.06660958546725783\n",
      "calculate plaquette\n",
      "-0.05697998155727769\n",
      "calculate plaquette\n",
      "-0.05207260935947347\n",
      "calculate plaquette\n",
      "-0.05491495252166914\n",
      "calculate plaquette\n",
      "-0.06116122184346775\n",
      "calculate plaquette\n",
      "-0.06295480178077915\n",
      "calculate plaquette\n",
      "-0.06327766180706954\n",
      "calculate plaquette\n",
      "-0.05522331175169165\n",
      "calculate plaquette\n",
      "-0.0423807048242888\n",
      "calculate plaquette\n",
      "-0.04287680396656698\n",
      "calculate plaquette\n",
      "-0.06886917243802221\n",
      "calculate plaquette\n",
      "-0.055156286152353094\n",
      "calculate plaquette\n",
      "-0.056448227862692435\n",
      "calculate plaquette\n",
      "-0.04881858981019347\n",
      "calculate plaquette\n",
      "-0.04592629702415602\n",
      "calculate plaquette\n",
      "-0.06426531133394188\n",
      "calculate plaquette\n",
      "-0.07163369787852618\n",
      "calculate plaquette\n",
      "-0.056925535718435345\n",
      "calculate plaquette\n",
      "-0.06268657352180089\n",
      "calculate plaquette\n",
      "-0.06264732045943565\n",
      "calculate plaquette\n",
      "-0.06128072881622789\n",
      "calculate plaquette\n",
      "-0.04182098764750835\n",
      "calculate plaquette\n",
      "-0.07438426262428723\n",
      "calculate plaquette\n",
      "-0.045531110747505904\n",
      "calculate plaquette\n",
      "-0.05801722465624288\n",
      "calculate plaquette\n",
      "-0.04392265447408799\n",
      "calculate plaquette\n",
      "-0.05796136180532929\n",
      "calculate plaquette\n",
      "-0.03474221735826265\n",
      "calculate plaquette\n",
      "-0.06305939892099077\n",
      "calculate plaquette\n",
      "-0.04122342577786478\n",
      "calculate plaquette\n",
      "-0.07369466830424706\n",
      "calculate plaquette\n",
      "-0.0469835246758863\n",
      "calculate plaquette\n",
      "-0.07226844043489643\n",
      "calculate plaquette\n",
      "-0.06058081795359955\n",
      "calculate plaquette\n",
      "-0.05738244833193961\n",
      "calculate plaquette\n",
      "-0.04115986306302874\n",
      "calculate plaquette\n",
      "-0.029048468070881697\n",
      "calculate plaquette\n",
      "-0.06024142533618187\n",
      "calculate plaquette\n",
      "-0.0670325838575156\n",
      "calculate plaquette\n",
      "-0.062133181402777765\n",
      "calculate plaquette\n",
      "-0.06284825320323136\n",
      "calculate plaquette\n",
      "-0.04108563298866658\n",
      "calculate plaquette\n",
      "-0.06751224591860955\n"
     ]
    },
    {
     "ename": "KeyboardInterrupt",
     "evalue": "",
     "output_type": "error",
     "traceback": [
      "\u001b[1;31m---------------------------------------------------------------------------\u001b[0m",
      "\u001b[1;31mKeyboardInterrupt\u001b[0m                         Traceback (most recent call last)",
      "\u001b[1;32m~\\AppData\\Local\\Temp/ipykernel_37512/662037021.py\u001b[0m in \u001b[0;36m<module>\u001b[1;34m\u001b[0m\n\u001b[0;32m      1\u001b[0m \u001b[1;32mfor\u001b[0m \u001b[0mi\u001b[0m \u001b[1;32min\u001b[0m \u001b[0mrange\u001b[0m\u001b[1;33m(\u001b[0m\u001b[1;36m1000\u001b[0m\u001b[1;33m)\u001b[0m\u001b[1;33m:\u001b[0m\u001b[1;33m\u001b[0m\u001b[1;33m\u001b[0m\u001b[0m\n\u001b[1;32m----> 2\u001b[1;33m     \u001b[0mpoop\u001b[0m\u001b[1;33m.\u001b[0m\u001b[0mUpdate\u001b[0m\u001b[1;33m(\u001b[0m\u001b[1;33m)\u001b[0m\u001b[1;33m\u001b[0m\u001b[1;33m\u001b[0m\u001b[0m\n\u001b[0m\u001b[0;32m      3\u001b[0m     \u001b[0mprint\u001b[0m\u001b[1;33m(\u001b[0m\u001b[0mpoop\u001b[0m\u001b[1;33m.\u001b[0m\u001b[0mavr_plaquette\u001b[0m\u001b[1;33m(\u001b[0m\u001b[1;33m)\u001b[0m\u001b[1;33m)\u001b[0m\u001b[1;33m\u001b[0m\u001b[1;33m\u001b[0m\u001b[0m\n",
      "\u001b[1;32m~\\AppData\\Local\\Temp/ipykernel_37512/2188024164.py\u001b[0m in \u001b[0;36mUpdate\u001b[1;34m(self)\u001b[0m\n\u001b[0;32m     53\u001b[0m                     \u001b[1;32mfor\u001b[0m \u001b[0mz\u001b[0m \u001b[1;32min\u001b[0m \u001b[0mrange\u001b[0m\u001b[1;33m(\u001b[0m\u001b[0mself\u001b[0m\u001b[1;33m.\u001b[0m\u001b[0mNs\u001b[0m\u001b[1;33m)\u001b[0m\u001b[1;33m:\u001b[0m\u001b[1;33m\u001b[0m\u001b[1;33m\u001b[0m\u001b[0m\n\u001b[0;32m     54\u001b[0m                         \u001b[1;32mfor\u001b[0m \u001b[0mmu\u001b[0m \u001b[1;32min\u001b[0m \u001b[0mrange\u001b[0m\u001b[1;33m(\u001b[0m\u001b[1;36m4\u001b[0m\u001b[1;33m)\u001b[0m\u001b[1;33m:\u001b[0m\u001b[1;33m\u001b[0m\u001b[1;33m\u001b[0m\u001b[0m\n\u001b[1;32m---> 55\u001b[1;33m                             \u001b[0mstpl\u001b[0m \u001b[1;33m=\u001b[0m \u001b[0mself\u001b[0m\u001b[1;33m.\u001b[0m\u001b[0mstaple\u001b[0m\u001b[1;33m(\u001b[0m\u001b[0mt\u001b[0m\u001b[1;33m,\u001b[0m\u001b[0mx\u001b[0m\u001b[1;33m,\u001b[0m\u001b[0my\u001b[0m\u001b[1;33m,\u001b[0m\u001b[0mz\u001b[0m\u001b[1;33m,\u001b[0m\u001b[0mmu\u001b[0m\u001b[1;33m)\u001b[0m\u001b[1;33m\u001b[0m\u001b[1;33m\u001b[0m\u001b[0m\n\u001b[0m\u001b[0;32m     56\u001b[0m                             \u001b[1;32mfor\u001b[0m \u001b[0mnhb\u001b[0m \u001b[1;32min\u001b[0m \u001b[0mrange\u001b[0m\u001b[1;33m(\u001b[0m\u001b[0mself\u001b[0m\u001b[1;33m.\u001b[0m\u001b[0mNhb\u001b[0m\u001b[1;33m)\u001b[0m\u001b[1;33m:\u001b[0m\u001b[1;33m\u001b[0m\u001b[1;33m\u001b[0m\u001b[0m\n\u001b[0;32m     57\u001b[0m                                 \u001b[0mself\u001b[0m\u001b[1;33m.\u001b[0m\u001b[0mnodes\u001b[0m\u001b[1;33m[\u001b[0m\u001b[0mt\u001b[0m\u001b[1;33m,\u001b[0m\u001b[0mx\u001b[0m\u001b[1;33m,\u001b[0m\u001b[0my\u001b[0m\u001b[1;33m,\u001b[0m\u001b[0mz\u001b[0m\u001b[1;33m,\u001b[0m\u001b[0mmu\u001b[0m\u001b[1;33m]\u001b[0m\u001b[1;33m.\u001b[0m\u001b[0mheat_bath\u001b[0m\u001b[1;33m(\u001b[0m\u001b[0mstpl\u001b[0m\u001b[1;33m,\u001b[0m \u001b[0mself\u001b[0m\u001b[1;33m.\u001b[0m\u001b[0mbeta\u001b[0m\u001b[1;33m)\u001b[0m\u001b[1;33m\u001b[0m\u001b[1;33m\u001b[0m\u001b[0m\n",
      "\u001b[1;32m~\\AppData\\Local\\Temp/ipykernel_37512/2188024164.py\u001b[0m in \u001b[0;36mstaple\u001b[1;34m(self, T, X, Y, Z, MU)\u001b[0m\n\u001b[0;32m     44\u001b[0m                                 self.move(T,X,Y,Z,1*(a==nu),-MU),self.move(T,X,Y,Z,1*(a==4),-nu))\n\u001b[0;32m     45\u001b[0m             stpl += su2.staple(self.move(T,X,Y,Z,-1*(a==nu),-nu),\n\u001b[1;32m---> 46\u001b[1;33m                                 self.move(T,X,Y,Z,-1*(a==nu),MU),self.move(T,X,Y,Z,1*(a==MU)-1*(a==nu),nu))\n\u001b[0m\u001b[0;32m     47\u001b[0m         \u001b[1;32mreturn\u001b[0m \u001b[0mstpl\u001b[0m\u001b[1;33m\u001b[0m\u001b[1;33m\u001b[0m\u001b[0m\n\u001b[0;32m     48\u001b[0m \u001b[1;33m\u001b[0m\u001b[0m\n",
      "\u001b[1;31mKeyboardInterrupt\u001b[0m: "
     ]
    }
   ],
   "source": [
    "for i in range(1000):\n",
    "    poop.Update()\n",
    "    print(i, poop.avr_plaquette())"
   ]
  },
  {
   "cell_type": "code",
   "execution_count": 13,
   "id": "fbc60d4a",
   "metadata": {},
   "outputs": [
    {
     "name": "stdout",
     "output_type": "stream",
     "text": [
      "calculate plaquette\n"
     ]
    },
    {
     "data": {
      "text/plain": [
       "-0.017682730824948194"
      ]
     },
     "execution_count": 13,
     "metadata": {},
     "output_type": "execute_result"
    }
   ],
   "source": [
    "poop.avr_plaquette()"
   ]
  },
  {
   "cell_type": "code",
   "execution_count": null,
   "id": "b57bc3aa",
   "metadata": {},
   "outputs": [],
   "source": []
  }
 ],
 "metadata": {
  "kernelspec": {
   "display_name": "Python 3 (ipykernel)",
   "language": "python",
   "name": "python3"
  },
  "language_info": {
   "codemirror_mode": {
    "name": "ipython",
    "version": 3
   },
   "file_extension": ".py",
   "mimetype": "text/x-python",
   "name": "python",
   "nbconvert_exporter": "python",
   "pygments_lexer": "ipython3",
   "version": "3.8.8"
  }
 },
 "nbformat": 4,
 "nbformat_minor": 5
}
